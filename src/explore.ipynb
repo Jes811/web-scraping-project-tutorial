{
    "cells": [
        {
            "cell_type": "markdown",
            "metadata": {},
            "source": [
                "# Explore here\n",
                "\n",
                "It's recommended to use this notebook for exploration purposes."
            ]
        },
        {
            "cell_type": "code",
            "execution_count": 1,
            "metadata": {},
            "outputs": [],
            "source": [
                "import os\n",
                "from bs4 import BeautifulSoup\n",
                "import requests\n",
                "import time\n",
                "import sqlite3\n",
                "import matplotlib.pyplot as plt\n",
                "import seaborn as sns\n",
                "import pandas as pd\n",
                "import io"
            ]
        },
        {
            "cell_type": "code",
            "execution_count": 2,
            "metadata": {},
            "outputs": [],
            "source": [
                "headers = {\n",
                "    \"User-Agent\": \"Mozilla/5.0 (Windows NT 10.0; Win64; x64)\",  # Pretend to be a browser\n",
                "    \"Accept\": \"text/html,application/xhtml+xml,application/xml;q=0.9,*/*;q=0.8\"\n",
                "}"
            ]
        },
        {
            "cell_type": "code",
            "execution_count": 3,
            "metadata": {},
            "outputs": [],
            "source": [
                "# Fetch the webpage\n",
                "\n",
                "url = 'https://en.wikipedia.org/wiki/List_of_Spotify_streaming_records'\n",
                "response = requests.get(url,headers=headers) "
            ]
        },
        {
            "cell_type": "code",
            "execution_count": 4,
            "metadata": {},
            "outputs": [
                {
                    "name": "stdout",
                    "output_type": "stream",
                    "text": [
                        "RESPONSE STATUS IS:  200\n"
                    ]
                }
            ],
            "source": [
                "print(\"RESPONSE STATUS IS: \", response.status_code)"
            ]
        },
        {
            "cell_type": "code",
            "execution_count": 5,
            "metadata": {},
            "outputs": [
                {
                    "name": "stdout",
                    "output_type": "stream",
                    "text": [
                        "27 tables were found.\n"
                    ]
                }
            ],
            "source": [
                "# Extract tables with pandas\n",
                "html = io.StringIO(response.text)  # Convert the HTML to a text file\n",
                "\n",
                "# read_html() returns a list of DataFrames\n",
                "tables = pd.read_html(html) # Scans for <table> tags and converts it into pandas DataFrame. Built to only parse for <table> default behavior\n",
                "print(f\"{len(tables)} tables were found.\") # Checks the length of \"tables\" variable"
            ]
        },
        {
            "cell_type": "code",
            "execution_count": 6,
            "metadata": {},
            "outputs": [
                {
                    "data": {
                        "text/html": [
                            "<div>\n",
                            "<style scoped>\n",
                            "    .dataframe tbody tr th:only-of-type {\n",
                            "        vertical-align: middle;\n",
                            "    }\n",
                            "\n",
                            "    .dataframe tbody tr th {\n",
                            "        vertical-align: top;\n",
                            "    }\n",
                            "\n",
                            "    .dataframe thead th {\n",
                            "        text-align: right;\n",
                            "    }\n",
                            "</style>\n",
                            "<table border=\"1\" class=\"dataframe\">\n",
                            "  <thead>\n",
                            "    <tr style=\"text-align: right;\">\n",
                            "      <th></th>\n",
                            "      <th>Rank</th>\n",
                            "      <th>Song</th>\n",
                            "      <th>Artist(s)</th>\n",
                            "      <th>Streams (billions)</th>\n",
                            "      <th>Release date</th>\n",
                            "    </tr>\n",
                            "  </thead>\n",
                            "  <tbody>\n",
                            "    <tr>\n",
                            "      <th>0</th>\n",
                            "      <td>1</td>\n",
                            "      <td>\"Blinding Lights\"</td>\n",
                            "      <td>The Weeknd</td>\n",
                            "      <td>5.039</td>\n",
                            "      <td>29 November 2019</td>\n",
                            "    </tr>\n",
                            "    <tr>\n",
                            "      <th>1</th>\n",
                            "      <td>2</td>\n",
                            "      <td>\"Shape of You\"</td>\n",
                            "      <td>Ed Sheeran</td>\n",
                            "      <td>4.562</td>\n",
                            "      <td>6 January 2017</td>\n",
                            "    </tr>\n",
                            "    <tr>\n",
                            "      <th>2</th>\n",
                            "      <td>3</td>\n",
                            "      <td>\"Starboy\"</td>\n",
                            "      <td>The Weeknd and Daft Punk</td>\n",
                            "      <td>4.105</td>\n",
                            "      <td>21 September 2016</td>\n",
                            "    </tr>\n",
                            "    <tr>\n",
                            "      <th>3</th>\n",
                            "      <td>4</td>\n",
                            "      <td>\"Someone You Loved\"</td>\n",
                            "      <td>Lewis Capaldi</td>\n",
                            "      <td>4.061</td>\n",
                            "      <td>8 November 2018</td>\n",
                            "    </tr>\n",
                            "    <tr>\n",
                            "      <th>4</th>\n",
                            "      <td>5</td>\n",
                            "      <td>\"As It Was\"</td>\n",
                            "      <td>Harry Styles</td>\n",
                            "      <td>4.047</td>\n",
                            "      <td>1 April 2022</td>\n",
                            "    </tr>\n",
                            "    <tr>\n",
                            "      <th>...</th>\n",
                            "      <td>...</td>\n",
                            "      <td>...</td>\n",
                            "      <td>...</td>\n",
                            "      <td>...</td>\n",
                            "      <td>...</td>\n",
                            "    </tr>\n",
                            "    <tr>\n",
                            "      <th>96</th>\n",
                            "      <td>97</td>\n",
                            "      <td>\"Jocelyn Flores\"</td>\n",
                            "      <td>XXXTentacion</td>\n",
                            "      <td>2.416</td>\n",
                            "      <td>31 October 2017</td>\n",
                            "    </tr>\n",
                            "    <tr>\n",
                            "      <th>97</th>\n",
                            "      <td>98</td>\n",
                            "      <td>\"Sweet Child O' Mine\"</td>\n",
                            "      <td>Guns N' Roses</td>\n",
                            "      <td>2.415</td>\n",
                            "      <td>3 June 1988</td>\n",
                            "    </tr>\n",
                            "    <tr>\n",
                            "      <th>98</th>\n",
                            "      <td>99</td>\n",
                            "      <td>\"Clean Baby Sleep White Noise (Loopable)\"</td>\n",
                            "      <td>Dream Supplier</td>\n",
                            "      <td>2.407</td>\n",
                            "      <td>29 April 2020</td>\n",
                            "    </tr>\n",
                            "    <tr>\n",
                            "      <th>99</th>\n",
                            "      <td>100</td>\n",
                            "      <td>\"Someone Like You\"</td>\n",
                            "      <td>Adele</td>\n",
                            "      <td>2.405</td>\n",
                            "      <td>24 January 2011</td>\n",
                            "    </tr>\n",
                            "    <tr>\n",
                            "      <th>100</th>\n",
                            "      <td>As of 24 September 2025</td>\n",
                            "      <td>As of 24 September 2025</td>\n",
                            "      <td>As of 24 September 2025</td>\n",
                            "      <td>As of 24 September 2025</td>\n",
                            "      <td>As of 24 September 2025</td>\n",
                            "    </tr>\n",
                            "  </tbody>\n",
                            "</table>\n",
                            "<p>101 rows × 5 columns</p>\n",
                            "</div>"
                        ],
                        "text/plain": [
                            "                        Rank                                       Song  \\\n",
                            "0                          1                          \"Blinding Lights\"   \n",
                            "1                          2                             \"Shape of You\"   \n",
                            "2                          3                                  \"Starboy\"   \n",
                            "3                          4                        \"Someone You Loved\"   \n",
                            "4                          5                                \"As It Was\"   \n",
                            "..                       ...                                        ...   \n",
                            "96                        97                           \"Jocelyn Flores\"   \n",
                            "97                        98                      \"Sweet Child O' Mine\"   \n",
                            "98                        99  \"Clean Baby Sleep White Noise (Loopable)\"   \n",
                            "99                       100                         \"Someone Like You\"   \n",
                            "100  As of 24 September 2025                    As of 24 September 2025   \n",
                            "\n",
                            "                    Artist(s)       Streams (billions)  \\\n",
                            "0                  The Weeknd                    5.039   \n",
                            "1                  Ed Sheeran                    4.562   \n",
                            "2    The Weeknd and Daft Punk                    4.105   \n",
                            "3               Lewis Capaldi                    4.061   \n",
                            "4                Harry Styles                    4.047   \n",
                            "..                        ...                      ...   \n",
                            "96               XXXTentacion                    2.416   \n",
                            "97              Guns N' Roses                    2.415   \n",
                            "98             Dream Supplier                    2.407   \n",
                            "99                      Adele                    2.405   \n",
                            "100   As of 24 September 2025  As of 24 September 2025   \n",
                            "\n",
                            "                Release date  \n",
                            "0           29 November 2019  \n",
                            "1             6 January 2017  \n",
                            "2          21 September 2016  \n",
                            "3            8 November 2018  \n",
                            "4               1 April 2022  \n",
                            "..                       ...  \n",
                            "96           31 October 2017  \n",
                            "97               3 June 1988  \n",
                            "98             29 April 2020  \n",
                            "99           24 January 2011  \n",
                            "100  As of 24 September 2025  \n",
                            "\n",
                            "[101 rows x 5 columns]"
                        ]
                    },
                    "execution_count": 6,
                    "metadata": {},
                    "output_type": "execute_result"
                }
            ],
            "source": [
                "df = tables[0]\n",
                "df.drop(\"Ref.\", axis=1, inplace=True)\n",
                "df\n"
            ]
        },
        {
            "cell_type": "code",
            "execution_count": 7,
            "metadata": {},
            "outputs": [],
            "source": [
                "df = df.drop(df.index[-1])\n"
            ]
        },
        {
            "cell_type": "code",
            "execution_count": 8,
            "metadata": {},
            "outputs": [
                {
                    "name": "stdout",
                    "output_type": "stream",
                    "text": [
                        "Database created and data inserted successfully!\n"
                    ]
                }
            ],
            "source": [
                "\n",
                "\n",
                "# --- Create empty database instance ---\n",
                "conn = sqlite3.connect(\"songs.db\")  # creates a new SQLite database file\n",
                "cursor = conn.cursor()\n",
                "\n",
                "# --- Create the table ---\n",
                "cursor.execute(\"\"\"\n",
                "CREATE TABLE IF NOT EXISTS songs (\n",
                "    Rank INTEGER PRIMARY KEY,\n",
                "    Song TEXT,\n",
                "    Artist TEXT,\n",
                "    Streams REAL,\n",
                "    ReleaseDate TEXT\n",
                ")\n",
                "\"\"\")\n",
                "\n",
                "# --- Insert values ---\n",
                "for _, row in df.iterrows():\n",
                "    cursor.execute(\"\"\"\n",
                "    INSERT INTO songs (Rank, Song, Artist, Streams, ReleaseDate)\n",
                "    VALUES (?, ?, ?, ?, ?)\n",
                "    \"\"\", (row[\"Rank\"], row[\"Song\"], row[\"Artist(s)\"], row[\"Streams (billions)\"], row[\"Release date\"]))\n",
                "\n",
                "# --- Commit changes and close ---\n",
                "conn.commit()\n",
                "conn.close()\n",
                "\n",
                "print(\"Database created and data inserted successfully!\")\n"
            ]
        }
    ],
    "metadata": {
        "kernelspec": {
            "display_name": "Python 3",
            "language": "python",
            "name": "python3"
        },
        "language_info": {
            "codemirror_mode": {
                "name": "ipython",
                "version": 3
            },
            "file_extension": ".py",
            "mimetype": "text/x-python",
            "name": "python",
            "nbconvert_exporter": "python",
            "pygments_lexer": "ipython3",
            "version": "3.11.4"
        },
        "orig_nbformat": 4
    },
    "nbformat": 4,
    "nbformat_minor": 2
}
